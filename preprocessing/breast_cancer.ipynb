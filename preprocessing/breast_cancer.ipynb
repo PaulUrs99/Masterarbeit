{
 "cells": [
  {
   "cell_type": "code",
   "execution_count": 1,
   "metadata": {},
   "outputs": [],
   "source": [
    "import pandas as pd\n",
    "import matplotlib.pyplot as plt\n",
    "import seaborn as sns\n",
    "file_path = 'C:/Users/paulu/OneDrive/Desktop/Masterarbeit/data/breast_cancer_age20_40.csv'\n",
    "\n",
    "\n",
    "# CSV-Datei einlesen (Dateiname anpassen!)\n",
    "df = pd.read_csv(file_path, sep=';')"
   ]
  },
  {
   "cell_type": "code",
   "execution_count": 3,
   "metadata": {},
   "outputs": [
    {
     "name": "stdout",
     "output_type": "stream",
     "text": [
      "Erste 5 Zeilen:\n",
      "  Race/ethnicity     Marital status at diagnosis  Primary Site  \\\n",
      "0          White  Married (including common law)           503   \n",
      "1       Filipino  Married (including common law)           504   \n",
      "2          Black          Single (never married)           508   \n",
      "3        Chinese  Married (including common law)           502   \n",
      "4          White          Single (never married)           504   \n",
      "\n",
      "   Histologic Type ICD-O-3 Behavior code ICD-O-3  \\\n",
      "0                     8500             Malignant   \n",
      "1                     8500             Malignant   \n",
      "2                     8500             Malignant   \n",
      "3                     8480             Malignant   \n",
      "4                     8500             Malignant   \n",
      "\n",
      "              Grade Recode (thru 2017)  Regional nodes positive (1988+)  \\\n",
      "0  Moderately differentiated; Grade II                                0   \n",
      "1     Poorly differentiated; Grade III                               98   \n",
      "2         Well differentiated; Grade I                               98   \n",
      "3         Well differentiated; Grade I                                1   \n",
      "4  Moderately differentiated; Grade II                                0   \n",
      "\n",
      "   Regional nodes examined (1988+) Radiation recode  \\\n",
      "0                                6     None/Unknown   \n",
      "1                                0   Beam radiation   \n",
      "2                                0     None/Unknown   \n",
      "3                                6     None/Unknown   \n",
      "4                               10     None/Unknown   \n",
      "\n",
      "   RX Summ--Surg Prim Site (1998+) Survival months  \\\n",
      "0                               44             130   \n",
      "1                               23             225   \n",
      "2                               30             143   \n",
      "3                               58             216   \n",
      "4                               53             206   \n",
      "\n",
      "  Vital status recode (study cutoff used)  \n",
      "0                                    Dead  \n",
      "1                                   Alive  \n",
      "2                                   Alive  \n",
      "3                                   Alive  \n",
      "4                                   Alive  \n",
      "\n",
      "Allgemeine Informationen:\n",
      "<class 'pandas.core.frame.DataFrame'>\n",
      "RangeIndex: 63648 entries, 0 to 63647\n",
      "Data columns (total 12 columns):\n",
      " #   Column                                   Non-Null Count  Dtype \n",
      "---  ------                                   --------------  ----- \n",
      " 0   Race/ethnicity                           63648 non-null  object\n",
      " 1   Marital status at diagnosis              63648 non-null  object\n",
      " 2   Primary Site                             63648 non-null  int64 \n",
      " 3   Histologic Type ICD-O-3                  63648 non-null  int64 \n",
      " 4   Behavior code ICD-O-3                    63648 non-null  object\n",
      " 5   Grade Recode (thru 2017)                 63648 non-null  object\n",
      " 6   Regional nodes positive (1988+)          63648 non-null  int64 \n",
      " 7   Regional nodes examined (1988+)          63648 non-null  int64 \n",
      " 8   Radiation recode                         63648 non-null  object\n",
      " 9   RX Summ--Surg Prim Site (1998+)          63648 non-null  int64 \n",
      " 10  Survival months                          63648 non-null  object\n",
      " 11  Vital status recode (study cutoff used)  63648 non-null  object\n",
      "dtypes: int64(5), object(7)\n",
      "memory usage: 5.8+ MB\n",
      "None\n",
      "\n",
      "Deskriptive Statistik:\n",
      "       Primary Site  Histologic Type ICD-O-3  Regional nodes positive (1988+)  \\\n",
      "count  63648.000000             63648.000000                     63648.000000   \n",
      "mean     505.450493              8493.097112                        17.234619   \n",
      "std        2.605699                94.335745                        35.352734   \n",
      "min      500.000000              8000.000000                         0.000000   \n",
      "25%      504.000000              8500.000000                         0.000000   \n",
      "50%      504.000000              8500.000000                         1.000000   \n",
      "75%      508.000000              8500.000000                         5.000000   \n",
      "max      509.000000              9580.000000                        99.000000   \n",
      "\n",
      "       Regional nodes examined (1988+)  RX Summ--Surg Prim Site (1998+)  \n",
      "count                     63648.000000                     63648.000000  \n",
      "mean                         12.946770                        35.694837  \n",
      "std                          21.688942                        17.896726  \n",
      "min                           0.000000                         0.000000  \n",
      "25%                           2.000000                        22.000000  \n",
      "50%                           6.000000                        41.000000  \n",
      "75%                          14.000000                        51.000000  \n",
      "max                          99.000000                        99.000000  \n",
      "\n",
      "Anzahl fehlender Werte pro Spalte:\n",
      "Race/ethnicity                             0\n",
      "Marital status at diagnosis                0\n",
      "Primary Site                               0\n",
      "Histologic Type ICD-O-3                    0\n",
      "Behavior code ICD-O-3                      0\n",
      "Grade Recode (thru 2017)                   0\n",
      "Regional nodes positive (1988+)            0\n",
      "Regional nodes examined (1988+)            0\n",
      "Radiation recode                           0\n",
      "RX Summ--Surg Prim Site (1998+)            0\n",
      "Survival months                            0\n",
      "Vital status recode (study cutoff used)    0\n",
      "dtype: int64\n"
     ]
    }
   ],
   "source": [
    "# Erste Zeilen anzeigen\n",
    "print(\"Erste 5 Zeilen:\")\n",
    "print(df.head())\n",
    "\n",
    "# Allgemeine Infos über das Dataset\n",
    "print(\"\\nAllgemeine Informationen:\")\n",
    "print(df.info())\n",
    "\n",
    "# Deskriptive Statistik\n",
    "print(\"\\nDeskriptive Statistik:\")\n",
    "print(df.describe())\n",
    "\n",
    "# Fehlende Werte prüfen\n",
    "print(\"\\nAnzahl fehlender Werte pro Spalte:\")\n",
    "print(df.isnull().sum())\n",
    "\n"
   ]
  },
  {
   "cell_type": "code",
   "execution_count": 4,
   "metadata": {},
   "outputs": [
    {
     "name": "stdout",
     "output_type": "stream",
     "text": [
      "Race/ethnicity                               336\n",
      "Marital status at diagnosis                 2632\n",
      "Primary Site                                   0\n",
      "Histologic Type ICD-O-3                        0\n",
      "Behavior code ICD-O-3                          0\n",
      "Grade Recode (thru 2017)                   17964\n",
      "Regional nodes positive (1988+)                0\n",
      "Regional nodes examined (1988+)                0\n",
      "Radiation recode                               0\n",
      "RX Summ--Surg Prim Site (1998+)                0\n",
      "Survival months                               44\n",
      "Vital status recode (study cutoff used)        0\n",
      "dtype: int64\n"
     ]
    }
   ],
   "source": [
    "unknown_counts = df.apply(lambda x: (x == 'Unknown').sum())\n",
    "print(unknown_counts)"
   ]
  },
  {
   "cell_type": "code",
   "execution_count": null,
   "metadata": {},
   "outputs": [],
   "source": [
    "df = df.replace('Unknown', pd.NA)\n",
    "\n",
    "# Fehlende Werte prüfen\n",
    "print(\"\\nAnzahl fehlender Werte pro Spalte:\")\n",
    "print(df.isnull().sum())\n"
   ]
  },
  {
   "cell_type": "code",
   "execution_count": 7,
   "metadata": {},
   "outputs": [
    {
     "name": "stdout",
     "output_type": "stream",
     "text": [
      "\n",
      "Number of unique values in each column:\n",
      "Race/ethnicity                              27\n",
      "Marital status at diagnosis                  6\n",
      "Primary Site                                 9\n",
      "Histologic Type ICD-O-3                    103\n",
      "Behavior code ICD-O-3                        1\n",
      "Grade Recode (thru 2017)                     4\n",
      "Regional nodes positive (1988+)             56\n",
      "Regional nodes examined (1988+)             73\n",
      "Radiation recode                             8\n",
      "RX Summ--Surg Prim Site (1998+)             47\n",
      "Survival months                            264\n",
      "Vital status recode (study cutoff used)      2\n",
      "dtype: int64\n"
     ]
    }
   ],
   "source": [
    "# Display the number of unique values in each column\n",
    "print(\"\\nNumber of unique values in each column:\")\n",
    "print(df.nunique())\n"
   ]
  },
  {
   "cell_type": "code",
   "execution_count": null,
   "metadata": {},
   "outputs": [],
   "source": []
  },
  {
   "cell_type": "code",
   "execution_count": null,
   "metadata": {},
   "outputs": [],
   "source": [
    "# Verteilung der Spalten visualisieren\n",
    "numeric_cols = df.select_dtypes(include=['number']).columns\n",
    "for col in numeric_cols:\n",
    "    plt.figure(figsize=(6, 4))\n",
    "    sns.histplot(df[col], kde=True, bins=30)\n",
    "    plt.title(f'Verteilung von {col}')\n",
    "    plt.show()\n",
    "\n",
    "# Korrelationen berechnen und visualisieren\n",
    "plt.figure(figsize=(10, 6))\n",
    "sns.heatmap(df.corr(), annot=True, cmap='coolwarm', fmt=\".2f\")\n",
    "plt.title('Korrelationsmatrix')\n",
    "plt.show()\n",
    "\n",
    "# Werteverteilung für kategorische Spalten\n",
    "categorical_cols = df.select_dtypes(include=['object']).columns\n",
    "for col in categorical_cols:\n",
    "    plt.figure(figsize=(8, 4))\n",
    "    sns.countplot(y=df[col], order=df[col].value_counts().index)\n",
    "    plt.title(f'Werteverteilung in {col}')\n",
    "    plt.show()"
   ]
  }
 ],
 "metadata": {
  "kernelspec": {
   "display_name": "Python 3",
   "language": "python",
   "name": "python3"
  },
  "language_info": {
   "codemirror_mode": {
    "name": "ipython",
    "version": 3
   },
   "file_extension": ".py",
   "mimetype": "text/x-python",
   "name": "python",
   "nbconvert_exporter": "python",
   "pygments_lexer": "ipython3",
   "version": "3.13.1"
  }
 },
 "nbformat": 4,
 "nbformat_minor": 2
}
